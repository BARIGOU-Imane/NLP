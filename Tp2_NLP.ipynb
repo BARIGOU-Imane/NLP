{
  "nbformat": 4,
  "nbformat_minor": 0,
  "metadata": {
    "colab": {
      "provenance": []
    },
    "kernelspec": {
      "name": "python3",
      "display_name": "Python 3"
    },
    "language_info": {
      "name": "python"
    }
  },
  "cells": [
    {
      "cell_type": "code",
      "execution_count": 1,
      "metadata": {
        "colab": {
          "base_uri": "https://localhost:8080/"
        },
        "id": "sIE1hlP92Hj7",
        "outputId": "a2e3530d-5ad4-47ea-9551-adb85f24ce41"
      },
      "outputs": [
        {
          "output_type": "stream",
          "name": "stdout",
          "text": [
            "Requirement already satisfied: gensim in /usr/local/lib/python3.10/dist-packages (4.3.2)\n",
            "Requirement already satisfied: numpy>=1.18.5 in /usr/local/lib/python3.10/dist-packages (from gensim) (1.23.5)\n",
            "Requirement already satisfied: scipy>=1.7.0 in /usr/local/lib/python3.10/dist-packages (from gensim) (1.11.3)\n",
            "Requirement already satisfied: smart-open>=1.8.1 in /usr/local/lib/python3.10/dist-packages (from gensim) (6.4.0)\n"
          ]
        }
      ],
      "source": [
        "!pip install gensim\n"
      ]
    },
    {
      "cell_type": "code",
      "source": [
        "from gensim.models import Word2Vec\n"
      ],
      "metadata": {
        "id": "SW1gMhPZ2OsL"
      },
      "execution_count": 2,
      "outputs": []
    },
    {
      "cell_type": "code",
      "source": [
        "from google.colab import files\n",
        "\n",
        "# Sélectionnez le fichier à télécharger depuis votre bureau\n",
        "uploaded = files.upload()\n",
        "\n",
        "# Assurez-vous de spécifier le bon nom de fichier dans la cellule suivante\n",
        "file_name = list(uploaded.keys())[0]\n"
      ],
      "metadata": {
        "colab": {
          "base_uri": "https://localhost:8080/",
          "height": 73
        },
        "id": "MRXC1tpV2RQh",
        "outputId": "61b087cd-2664-4bf8-e635-41874947c296"
      },
      "execution_count": 3,
      "outputs": [
        {
          "output_type": "display_data",
          "data": {
            "text/plain": [
              "<IPython.core.display.HTML object>"
            ],
            "text/html": [
              "\n",
              "     <input type=\"file\" id=\"files-598ec9d8-7d22-46fe-9ea3-f72c967c8f97\" name=\"files[]\" multiple disabled\n",
              "        style=\"border:none\" />\n",
              "     <output id=\"result-598ec9d8-7d22-46fe-9ea3-f72c967c8f97\">\n",
              "      Upload widget is only available when the cell has been executed in the\n",
              "      current browser session. Please rerun this cell to enable.\n",
              "      </output>\n",
              "      <script>// Copyright 2017 Google LLC\n",
              "//\n",
              "// Licensed under the Apache License, Version 2.0 (the \"License\");\n",
              "// you may not use this file except in compliance with the License.\n",
              "// You may obtain a copy of the License at\n",
              "//\n",
              "//      http://www.apache.org/licenses/LICENSE-2.0\n",
              "//\n",
              "// Unless required by applicable law or agreed to in writing, software\n",
              "// distributed under the License is distributed on an \"AS IS\" BASIS,\n",
              "// WITHOUT WARRANTIES OR CONDITIONS OF ANY KIND, either express or implied.\n",
              "// See the License for the specific language governing permissions and\n",
              "// limitations under the License.\n",
              "\n",
              "/**\n",
              " * @fileoverview Helpers for google.colab Python module.\n",
              " */\n",
              "(function(scope) {\n",
              "function span(text, styleAttributes = {}) {\n",
              "  const element = document.createElement('span');\n",
              "  element.textContent = text;\n",
              "  for (const key of Object.keys(styleAttributes)) {\n",
              "    element.style[key] = styleAttributes[key];\n",
              "  }\n",
              "  return element;\n",
              "}\n",
              "\n",
              "// Max number of bytes which will be uploaded at a time.\n",
              "const MAX_PAYLOAD_SIZE = 100 * 1024;\n",
              "\n",
              "function _uploadFiles(inputId, outputId) {\n",
              "  const steps = uploadFilesStep(inputId, outputId);\n",
              "  const outputElement = document.getElementById(outputId);\n",
              "  // Cache steps on the outputElement to make it available for the next call\n",
              "  // to uploadFilesContinue from Python.\n",
              "  outputElement.steps = steps;\n",
              "\n",
              "  return _uploadFilesContinue(outputId);\n",
              "}\n",
              "\n",
              "// This is roughly an async generator (not supported in the browser yet),\n",
              "// where there are multiple asynchronous steps and the Python side is going\n",
              "// to poll for completion of each step.\n",
              "// This uses a Promise to block the python side on completion of each step,\n",
              "// then passes the result of the previous step as the input to the next step.\n",
              "function _uploadFilesContinue(outputId) {\n",
              "  const outputElement = document.getElementById(outputId);\n",
              "  const steps = outputElement.steps;\n",
              "\n",
              "  const next = steps.next(outputElement.lastPromiseValue);\n",
              "  return Promise.resolve(next.value.promise).then((value) => {\n",
              "    // Cache the last promise value to make it available to the next\n",
              "    // step of the generator.\n",
              "    outputElement.lastPromiseValue = value;\n",
              "    return next.value.response;\n",
              "  });\n",
              "}\n",
              "\n",
              "/**\n",
              " * Generator function which is called between each async step of the upload\n",
              " * process.\n",
              " * @param {string} inputId Element ID of the input file picker element.\n",
              " * @param {string} outputId Element ID of the output display.\n",
              " * @return {!Iterable<!Object>} Iterable of next steps.\n",
              " */\n",
              "function* uploadFilesStep(inputId, outputId) {\n",
              "  const inputElement = document.getElementById(inputId);\n",
              "  inputElement.disabled = false;\n",
              "\n",
              "  const outputElement = document.getElementById(outputId);\n",
              "  outputElement.innerHTML = '';\n",
              "\n",
              "  const pickedPromise = new Promise((resolve) => {\n",
              "    inputElement.addEventListener('change', (e) => {\n",
              "      resolve(e.target.files);\n",
              "    });\n",
              "  });\n",
              "\n",
              "  const cancel = document.createElement('button');\n",
              "  inputElement.parentElement.appendChild(cancel);\n",
              "  cancel.textContent = 'Cancel upload';\n",
              "  const cancelPromise = new Promise((resolve) => {\n",
              "    cancel.onclick = () => {\n",
              "      resolve(null);\n",
              "    };\n",
              "  });\n",
              "\n",
              "  // Wait for the user to pick the files.\n",
              "  const files = yield {\n",
              "    promise: Promise.race([pickedPromise, cancelPromise]),\n",
              "    response: {\n",
              "      action: 'starting',\n",
              "    }\n",
              "  };\n",
              "\n",
              "  cancel.remove();\n",
              "\n",
              "  // Disable the input element since further picks are not allowed.\n",
              "  inputElement.disabled = true;\n",
              "\n",
              "  if (!files) {\n",
              "    return {\n",
              "      response: {\n",
              "        action: 'complete',\n",
              "      }\n",
              "    };\n",
              "  }\n",
              "\n",
              "  for (const file of files) {\n",
              "    const li = document.createElement('li');\n",
              "    li.append(span(file.name, {fontWeight: 'bold'}));\n",
              "    li.append(span(\n",
              "        `(${file.type || 'n/a'}) - ${file.size} bytes, ` +\n",
              "        `last modified: ${\n",
              "            file.lastModifiedDate ? file.lastModifiedDate.toLocaleDateString() :\n",
              "                                    'n/a'} - `));\n",
              "    const percent = span('0% done');\n",
              "    li.appendChild(percent);\n",
              "\n",
              "    outputElement.appendChild(li);\n",
              "\n",
              "    const fileDataPromise = new Promise((resolve) => {\n",
              "      const reader = new FileReader();\n",
              "      reader.onload = (e) => {\n",
              "        resolve(e.target.result);\n",
              "      };\n",
              "      reader.readAsArrayBuffer(file);\n",
              "    });\n",
              "    // Wait for the data to be ready.\n",
              "    let fileData = yield {\n",
              "      promise: fileDataPromise,\n",
              "      response: {\n",
              "        action: 'continue',\n",
              "      }\n",
              "    };\n",
              "\n",
              "    // Use a chunked sending to avoid message size limits. See b/62115660.\n",
              "    let position = 0;\n",
              "    do {\n",
              "      const length = Math.min(fileData.byteLength - position, MAX_PAYLOAD_SIZE);\n",
              "      const chunk = new Uint8Array(fileData, position, length);\n",
              "      position += length;\n",
              "\n",
              "      const base64 = btoa(String.fromCharCode.apply(null, chunk));\n",
              "      yield {\n",
              "        response: {\n",
              "          action: 'append',\n",
              "          file: file.name,\n",
              "          data: base64,\n",
              "        },\n",
              "      };\n",
              "\n",
              "      let percentDone = fileData.byteLength === 0 ?\n",
              "          100 :\n",
              "          Math.round((position / fileData.byteLength) * 100);\n",
              "      percent.textContent = `${percentDone}% done`;\n",
              "\n",
              "    } while (position < fileData.byteLength);\n",
              "  }\n",
              "\n",
              "  // All done.\n",
              "  yield {\n",
              "    response: {\n",
              "      action: 'complete',\n",
              "    }\n",
              "  };\n",
              "}\n",
              "\n",
              "scope.google = scope.google || {};\n",
              "scope.google.colab = scope.google.colab || {};\n",
              "scope.google.colab._files = {\n",
              "  _uploadFiles,\n",
              "  _uploadFilesContinue,\n",
              "};\n",
              "})(self);\n",
              "</script> "
            ]
          },
          "metadata": {}
        },
        {
          "output_type": "stream",
          "name": "stdout",
          "text": [
            "Saving text (1) to text (1)\n"
          ]
        }
      ]
    },
    {
      "cell_type": "code",
      "source": [
        "# Lire le contenu du fichier texte\n",
        "with open(file_name, 'r', encoding='utf-8') as file:\n",
        "    text = file.read()\n",
        "\n",
        "# Affichez le contenu du texte\n",
        "print(\"Contenu du fichier :\", text)\n"
      ],
      "metadata": {
        "colab": {
          "base_uri": "https://localhost:8080/"
        },
        "id": "LVFee0NV2W-G",
        "outputId": "f9e3cd9f-bfcf-451d-decd-237da1b15cae"
      },
      "execution_count": 4,
      "outputs": [
        {
          "output_type": "stream",
          "name": "stdout",
          "text": [
            "Contenu du fichier : **Morocco and Marrakech: A Tapestry of Tradition and Modernity** Morocco, located at the crossroads of Europe and Africa, is a country drenched in history, mystery, and cultural richness. A testament to the ancient civilizations that once flourished here, this North African kingdom boasts a unique blend of Arab, Berber, and European influences. At the heart of Morocco's rich tapestry lies Marrakech, one of its four imperial cities and a vibrant epicenter of tradition and modernity. **Geographical Significance** Morocco is bordered by the Atlantic Ocean to the west, the Mediterranean Sea to the north, Algeria to the east and southeast, and the vast Sahara desert to the south. Its strategic location has historically made it a sought-after territory and a melting pot of cultures, religions, and trade routes. **Marrakech: The Red City** Marrakech, often referred to as \"The Red City\" due to its distinctive red-hued buildings, stands against the backdrop of the snow-capped Atlas Mountains. Established in the 11th century, it has remained a crucial political, economic, and cultural center of Morocco. **Journey through the Medina** Marrakech's old town, the Medina, is a UNESCO World Heritage site and a labyrinthine maze of narrow alleys, bustling souks, and historical landmarks. The Djemaa el-Fna Square lies at the heart of the Medina and comes alive every evening with storytellers, musicians, snake charmers, and food stalls offering tantalizing Moroccan delicacies. **Palaces and Gardens** The city is also home to grand palaces like the Bahia Palace, showcasing intricate Islamic architecture, and the Saadian Tombs, remnants of the Saadian dynasty. The Majorelle Garden, restored by the fashion designer Yves Saint Laurent, is a tranquil oasis of cacti, palm trees, and cobalt blue accents. **Modern Marrakech** While tradition and history permeate Marrakech, the city is not averse to the modern world. Gueliz, the new town, is brimming with contemporary art galleries, stylish cafes, and chic boutiques, offering a stark contrast to the ancient Medina. **Moroccan Cuisine** No journey through Morocco and Marrakech would be complete without indulging in the local cuisine. Tagines, couscous, and pastilla are just a few of the many dishes that combine a plethora of flavors and spices like saffron, cumin, and mint. Paired with Moroccan mint tea, the culinary experience is truly unparalleled. **In Conclusion** Morocco, with Marrakech at its heart, offers travelers an unparalleled journey through time. The convergence of history, culture, architecture, and gastronomy makes it an enthralling destination for those seeking both adventure and reflection. As the Moroccan proverb goes, \"He who does not travel does not know the value of men.\" In the case of Morocco and Marrakech, it's not just the value of men, but also the value of time, tradition, and tales that have spanned centuries.\n"
          ]
        }
      ]
    },
    {
      "cell_type": "code",
      "source": [
        "import nltk\n",
        "nltk.download('punkt')\n",
        "\n",
        "from nltk.tokenize import word_tokenize\n",
        "import string\n",
        "\n",
        "# Tokenize le texte en mots\n",
        "tokens = word_tokenize(text.lower())\n",
        "\n",
        "# Supprimer la ponctuation et les caractères non alphabétiques\n",
        "tokens = [word for word in tokens if word.isalpha()]\n",
        "\n",
        "print(\"Tokens après prétraitement :\", tokens)\n"
      ],
      "metadata": {
        "colab": {
          "base_uri": "https://localhost:8080/"
        },
        "id": "wYQ6xGee2a32",
        "outputId": "7db01aa4-99cc-47fd-c5c6-fc6065c72cfd"
      },
      "execution_count": 5,
      "outputs": [
        {
          "output_type": "stream",
          "name": "stderr",
          "text": [
            "[nltk_data] Downloading package punkt to /root/nltk_data...\n",
            "[nltk_data]   Unzipping tokenizers/punkt.zip.\n"
          ]
        },
        {
          "output_type": "stream",
          "name": "stdout",
          "text": [
            "Tokens après prétraitement : ['morocco', 'and', 'marrakech', 'a', 'tapestry', 'of', 'tradition', 'and', 'modernity', 'morocco', 'located', 'at', 'the', 'crossroads', 'of', 'europe', 'and', 'africa', 'is', 'a', 'country', 'drenched', 'in', 'history', 'mystery', 'and', 'cultural', 'richness', 'a', 'testament', 'to', 'the', 'ancient', 'civilizations', 'that', 'once', 'flourished', 'here', 'this', 'north', 'african', 'kingdom', 'boasts', 'a', 'unique', 'blend', 'of', 'arab', 'berber', 'and', 'european', 'influences', 'at', 'the', 'heart', 'of', 'morocco', 'rich', 'tapestry', 'lies', 'marrakech', 'one', 'of', 'its', 'four', 'imperial', 'cities', 'and', 'a', 'vibrant', 'epicenter', 'of', 'tradition', 'and', 'modernity', 'geographical', 'significance', 'morocco', 'is', 'bordered', 'by', 'the', 'atlantic', 'ocean', 'to', 'the', 'west', 'the', 'mediterranean', 'sea', 'to', 'the', 'north', 'algeria', 'to', 'the', 'east', 'and', 'southeast', 'and', 'the', 'vast', 'sahara', 'desert', 'to', 'the', 'south', 'its', 'strategic', 'location', 'has', 'historically', 'made', 'it', 'a', 'territory', 'and', 'a', 'melting', 'pot', 'of', 'cultures', 'religions', 'and', 'trade', 'routes', 'marrakech', 'the', 'red', 'city', 'marrakech', 'often', 'referred', 'to', 'as', 'the', 'red', 'city', 'due', 'to', 'its', 'distinctive', 'buildings', 'stands', 'against', 'the', 'backdrop', 'of', 'the', 'atlas', 'mountains', 'established', 'in', 'the', 'century', 'it', 'has', 'remained', 'a', 'crucial', 'political', 'economic', 'and', 'cultural', 'center', 'of', 'morocco', 'journey', 'through', 'the', 'medina', 'marrakech', 'old', 'town', 'the', 'medina', 'is', 'a', 'unesco', 'world', 'heritage', 'site', 'and', 'a', 'labyrinthine', 'maze', 'of', 'narrow', 'alleys', 'bustling', 'souks', 'and', 'historical', 'landmarks', 'the', 'djemaa', 'square', 'lies', 'at', 'the', 'heart', 'of', 'the', 'medina', 'and', 'comes', 'alive', 'every', 'evening', 'with', 'storytellers', 'musicians', 'snake', 'charmers', 'and', 'food', 'stalls', 'offering', 'tantalizing', 'moroccan', 'delicacies', 'palaces', 'and', 'gardens', 'the', 'city', 'is', 'also', 'home', 'to', 'grand', 'palaces', 'like', 'the', 'bahia', 'palace', 'showcasing', 'intricate', 'islamic', 'architecture', 'and', 'the', 'saadian', 'tombs', 'remnants', 'of', 'the', 'saadian', 'dynasty', 'the', 'majorelle', 'garden', 'restored', 'by', 'the', 'fashion', 'designer', 'yves', 'saint', 'laurent', 'is', 'a', 'tranquil', 'oasis', 'of', 'cacti', 'palm', 'trees', 'and', 'cobalt', 'blue', 'accents', 'modern', 'marrakech', 'while', 'tradition', 'and', 'history', 'permeate', 'marrakech', 'the', 'city', 'is', 'not', 'averse', 'to', 'the', 'modern', 'world', 'gueliz', 'the', 'new', 'town', 'is', 'brimming', 'with', 'contemporary', 'art', 'galleries', 'stylish', 'cafes', 'and', 'chic', 'boutiques', 'offering', 'a', 'stark', 'contrast', 'to', 'the', 'ancient', 'medina', 'moroccan', 'cuisine', 'no', 'journey', 'through', 'morocco', 'and', 'marrakech', 'would', 'be', 'complete', 'without', 'indulging', 'in', 'the', 'local', 'cuisine', 'tagines', 'couscous', 'and', 'pastilla', 'are', 'just', 'a', 'few', 'of', 'the', 'many', 'dishes', 'that', 'combine', 'a', 'plethora', 'of', 'flavors', 'and', 'spices', 'like', 'saffron', 'cumin', 'and', 'mint', 'paired', 'with', 'moroccan', 'mint', 'tea', 'the', 'culinary', 'experience', 'is', 'truly', 'unparalleled', 'in', 'conclusion', 'morocco', 'with', 'marrakech', 'at', 'its', 'heart', 'offers', 'travelers', 'an', 'unparalleled', 'journey', 'through', 'time', 'the', 'convergence', 'of', 'history', 'culture', 'architecture', 'and', 'gastronomy', 'makes', 'it', 'an', 'enthralling', 'destination', 'for', 'those', 'seeking', 'both', 'adventure', 'and', 'reflection', 'as', 'the', 'moroccan', 'proverb', 'goes', 'he', 'who', 'does', 'not', 'travel', 'does', 'not', 'know', 'the', 'value', 'of', 'men', 'in', 'the', 'case', 'of', 'morocco', 'and', 'marrakech', 'it', 'not', 'just', 'the', 'value', 'of', 'men', 'but', 'also', 'the', 'value', 'of', 'time', 'tradition', 'and', 'tales', 'that', 'have', 'spanned', 'centuries']\n"
          ]
        }
      ]
    },
    {
      "cell_type": "code",
      "source": [
        "from gensim.models import Word2Vec\n",
        "\n",
        "# Définir les paramètres du modèle Word2Vec\n",
        "vector_size = 100\n",
        "window_size = 5\n",
        "min_count = 1\n",
        "workers = 4\n",
        "\n",
        "# Initialiser et entraîner le modèle Word2Vec\n",
        "word2vec_model = Word2Vec([tokens], vector_size=vector_size, window=window_size, min_count=min_count, workers=workers)\n",
        "\n",
        "# Sauvegarder le modèle si nécessaire\n",
        "word2vec_model.save(\"votre_modele_word2vec.model\")\n",
        "print(word2vec_model)\n",
        "\n",
        "# Exemple d'utilisation : obtenir le vecteur du mot 'exemple'\n",
        "vector = word2vec_model.wv['morocco']\n",
        "print(\"Vecteur du mot 'exemple' :\", vector)\n"
      ],
      "metadata": {
        "colab": {
          "base_uri": "https://localhost:8080/"
        },
        "id": "xSNSbg5s2fJU",
        "outputId": "c14f35b4-73ef-49ca-dd74-7898f92e3a45"
      },
      "execution_count": 6,
      "outputs": [
        {
          "output_type": "stream",
          "name": "stdout",
          "text": [
            "Word2Vec<vocab=244, vector_size=100, alpha=0.025>\n",
            "Vecteur du mot 'exemple' : [ 7.98077881e-03 -4.34868457e-03 -1.10134424e-03  1.09150785e-03\n",
            " -1.06176078e-04  9.51031572e-04  6.22364366e-03  2.82986381e-04\n",
            " -3.30497301e-03 -1.62008498e-03  5.91195468e-03  1.35005673e-03\n",
            " -7.58051756e-04  9.37812775e-03 -4.94513568e-03 -9.73508519e-04\n",
            "  9.29479208e-03  6.62379246e-03  1.29757402e-03 -9.20520537e-03\n",
            "  1.19915337e-03 -2.26034294e-03  9.49818734e-03  1.18752336e-03\n",
            "  1.50610937e-03  2.49904208e-03 -1.84096070e-03 -5.02381846e-03\n",
            "  6.89745575e-05 -1.89573597e-03  6.77300850e-03  9.02499910e-03\n",
            " -6.33174961e-04  2.90933810e-03 -6.22273190e-03  1.96602615e-03\n",
            " -6.88086031e-03 -8.82190559e-03 -5.98650007e-03 -9.18811373e-03\n",
            "  7.23638572e-03 -5.94147528e-03  8.30140058e-03 -7.30003929e-03\n",
            "  3.53897037e-03  9.73631535e-03 -7.84776639e-03 -9.96932294e-03\n",
            " -4.25646827e-03 -2.67168158e-03 -1.20593315e-04 -8.93605128e-03\n",
            " -8.56752042e-03  2.67089787e-03 -8.35100189e-03 -8.99209920e-03\n",
            " -2.39825551e-03 -8.68004281e-03 -7.20419362e-03 -8.39445926e-03\n",
            " -2.36743697e-04 -4.47226688e-03  6.72686100e-03  1.37380662e-03\n",
            " -3.57218902e-03  6.17488939e-03 -5.87506918e-03 -4.40026447e-03\n",
            " -7.44798174e-03 -4.13072575e-03 -1.85531832e-03  6.52690744e-03\n",
            " -2.61553423e-03  4.87520639e-03  7.07586668e-03 -7.33567961e-03\n",
            "  4.64035571e-03  6.10559713e-03 -3.17085441e-03  6.71854755e-03\n",
            "  6.03221357e-03 -6.33871276e-03 -6.94466103e-03  2.70828651e-03\n",
            " -1.72853714e-03 -6.09747600e-03  9.56898276e-03 -4.94168885e-03\n",
            " -6.42658910e-03 -2.92327866e-04 -2.56217597e-03  6.18065242e-04\n",
            " -3.44439154e-03 -4.46782622e-04 -4.33913927e-04  9.75438801e-04\n",
            "  8.38436466e-03 -5.86231751e-03 -1.55217631e-03  5.47486171e-03]\n"
          ]
        }
      ]
    },
    {
      "cell_type": "code",
      "source": [],
      "metadata": {
        "id": "hKpyw8GJ2mB9"
      },
      "execution_count": null,
      "outputs": []
    },
    {
      "cell_type": "code",
      "source": [
        "# Calculer la similarité entre deux mots\n",
        "similarity_score = word2vec_model.wv.similarity('african', 'morocco')\n",
        "print(\"Similarité entre 'african' et 'morocco' :\", similarity_score)\n"
      ],
      "metadata": {
        "colab": {
          "base_uri": "https://localhost:8080/"
        },
        "id": "rN9vjUIj2mDK",
        "outputId": "b391f43a-5bcb-438b-b467-fa55768a6aa3"
      },
      "execution_count": 7,
      "outputs": [
        {
          "output_type": "stream",
          "name": "stdout",
          "text": [
            "Similarité entre 'african' et 'morocco' : 0.036147777\n"
          ]
        }
      ]
    },
    {
      "cell_type": "code",
      "source": [
        "# Extraire les mots contextuels pour un mot central donné\n",
        "similar_words = word2vec_model.wv.most_similar('morocco', topn=5)  # topn spécifie le nombre de mots à récupérer\n",
        "print(\"Mots contextuels pour 'morocco' :\", similar_words)\n"
      ],
      "metadata": {
        "colab": {
          "base_uri": "https://localhost:8080/"
        },
        "id": "Y1EqDHrk2n2o",
        "outputId": "dbc3ad10-9e38-4525-d9d1-e3453fe04a8b"
      },
      "execution_count": 8,
      "outputs": [
        {
          "output_type": "stream",
          "name": "stdout",
          "text": [
            "Mots contextuels pour 'morocco' : [('offering', 0.35441577434539795), ('lies', 0.30487772822380066), ('snake', 0.2847580313682556), ('time', 0.2559811472892761), ('cafes', 0.2531076669692993)]\n"
          ]
        }
      ]
    }
  ]
}